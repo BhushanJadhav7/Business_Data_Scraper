{
 "cells": [
  {
   "cell_type": "code",
   "execution_count": 1,
   "metadata": {},
   "outputs": [],
   "source": [
    "import pandas as pd\n",
    "import numpy as np"
   ]
  },
  {
   "cell_type": "code",
   "execution_count": 2,
   "metadata": {},
   "outputs": [
    {
     "data": {
      "text/html": [
       "<div>\n",
       "<style scoped>\n",
       "    .dataframe tbody tr th:only-of-type {\n",
       "        vertical-align: middle;\n",
       "    }\n",
       "\n",
       "    .dataframe tbody tr th {\n",
       "        vertical-align: top;\n",
       "    }\n",
       "\n",
       "    .dataframe thead th {\n",
       "        text-align: right;\n",
       "    }\n",
       "</style>\n",
       "<table border=\"1\" class=\"dataframe\">\n",
       "  <thead>\n",
       "    <tr style=\"text-align: right;\">\n",
       "      <th></th>\n",
       "      <th>Name</th>\n",
       "      <th>Address</th>\n",
       "      <th>City</th>\n",
       "      <th>Category</th>\n",
       "    </tr>\n",
       "  </thead>\n",
       "  <tbody>\n",
       "    <tr>\n",
       "      <th>0</th>\n",
       "      <td>Masala Library</td>\n",
       "      <td>Fifc Building</td>\n",
       "      <td>Mumbai</td>\n",
       "      <td>Indian Restaurant</td>\n",
       "    </tr>\n",
       "    <tr>\n",
       "      <th>1</th>\n",
       "      <td>Naaz Hotel</td>\n",
       "      <td>Kantharia Mahal, Ground Floor, Lbs Road</td>\n",
       "      <td>Mumbai</td>\n",
       "      <td>Indian Restaurant</td>\n",
       "    </tr>\n",
       "    <tr>\n",
       "      <th>2</th>\n",
       "      <td>Smoke House Deli (BKC)</td>\n",
       "      <td>Fifc Building</td>\n",
       "      <td>Mumbai</td>\n",
       "      <td>Deli</td>\n",
       "    </tr>\n",
       "    <tr>\n",
       "      <th>3</th>\n",
       "      <td>IVY Banquet</td>\n",
       "      <td>Amar Mahal, Ghatkopar East, Mg Road</td>\n",
       "      <td>Mumbai</td>\n",
       "      <td>Restaurant</td>\n",
       "    </tr>\n",
       "    <tr>\n",
       "      <th>4</th>\n",
       "      <td>Tresind</td>\n",
       "      <td>Ground Floor, Inspire Bkc, G Block</td>\n",
       "      <td>Mumbai</td>\n",
       "      <td>Restaurant</td>\n",
       "    </tr>\n",
       "  </tbody>\n",
       "</table>\n",
       "</div>"
      ],
      "text/plain": [
       "                     Name                                  Address    City  \\\n",
       "0          Masala Library                            Fifc Building  Mumbai   \n",
       "1              Naaz Hotel  Kantharia Mahal, Ground Floor, Lbs Road  Mumbai   \n",
       "2  Smoke House Deli (BKC)                            Fifc Building  Mumbai   \n",
       "3             IVY Banquet      Amar Mahal, Ghatkopar East, Mg Road  Mumbai   \n",
       "4                 Tresind       Ground Floor, Inspire Bkc, G Block  Mumbai   \n",
       "\n",
       "            Category  \n",
       "0  Indian Restaurant  \n",
       "1  Indian Restaurant  \n",
       "2               Deli  \n",
       "3         Restaurant  \n",
       "4         Restaurant  "
      ]
     },
     "execution_count": 2,
     "metadata": {},
     "output_type": "execute_result"
    }
   ],
   "source": [
    "# Load the CSV file into a DataFrame\n",
    "df = pd.read_csv('/workspaces/Business_Data_Scraper/foursquare_business_data.csv')  # Replace with your actual CSV file path\n",
    "\n",
    "# Display the first few rows of the data to check\n",
    "df.head()"
   ]
  },
  {
   "cell_type": "code",
   "execution_count": 3,
   "metadata": {},
   "outputs": [
    {
     "name": "stdout",
     "output_type": "stream",
     "text": [
      "Original Data has 5000 rows and 4 columns.\n"
     ]
    }
   ],
   "source": [
    "# Check the number of rows and columns in the dataset\n",
    "print(f\"Original Data has {df.shape[0]} rows and {df.shape[1]} columns.\")\n"
   ]
  },
  {
   "cell_type": "code",
   "execution_count": 4,
   "metadata": {},
   "outputs": [
    {
     "name": "stdout",
     "output_type": "stream",
     "text": [
      "Cleaned DataFrame has 50 rows and 4 columns.\n"
     ]
    }
   ],
   "source": [
    "def clean_data(df):\n",
    "    \"\"\"\n",
    "    Clean the DataFrame by handling missing values, duplicates, and standardizing formats.\n",
    "    \n",
    "    :param df: The raw DataFrame to clean.\n",
    "    :return: The cleaned DataFrame.\n",
    "    \"\"\"\n",
    "    # Replace \"N/A\" with NaN for missing values\n",
    "    df.replace(\"N/A\", pd.NA, inplace=True)\n",
    "    \n",
    "    # Drop duplicates based on 'Name', 'Address', 'City', and 'Category'\n",
    "    df.drop_duplicates(subset=[\"Name\", \"Address\", \"City\", \"Category\"], keep=\"first\", inplace=True)\n",
    "    \n",
    "    # Standardize text data (e.g., convert to title case)\n",
    "    df[\"Name\"] = df[\"Name\"].str.title()\n",
    "    df[\"City\"] = df[\"City\"].str.title()\n",
    "    df[\"Category\"] = df[\"Category\"].str.title()\n",
    "    \n",
    "    # Drop rows where essential columns ('Name' or 'Address') have missing values\n",
    "    df.dropna(subset=[\"Name\", \"Address\"], inplace=True)\n",
    "    \n",
    "    # Reset the index after cleaning\n",
    "    df.reset_index(drop=True, inplace=True)\n",
    "\n",
    "    return df\n",
    "\n",
    "# Clean the data\n",
    "cleaned_df = clean_data(df)\n",
    "\n",
    "# Display the cleaned DataFrame shape\n",
    "print(f\"Cleaned DataFrame has {cleaned_df.shape[0]} rows and {cleaned_df.shape[1]} columns.\")"
   ]
  },
  {
   "cell_type": "code",
   "execution_count": 5,
   "metadata": {},
   "outputs": [
    {
     "data": {
      "text/html": [
       "<div>\n",
       "<style scoped>\n",
       "    .dataframe tbody tr th:only-of-type {\n",
       "        vertical-align: middle;\n",
       "    }\n",
       "\n",
       "    .dataframe tbody tr th {\n",
       "        vertical-align: top;\n",
       "    }\n",
       "\n",
       "    .dataframe thead th {\n",
       "        text-align: right;\n",
       "    }\n",
       "</style>\n",
       "<table border=\"1\" class=\"dataframe\">\n",
       "  <thead>\n",
       "    <tr style=\"text-align: right;\">\n",
       "      <th></th>\n",
       "      <th>Name</th>\n",
       "      <th>Address</th>\n",
       "      <th>City</th>\n",
       "      <th>Category</th>\n",
       "    </tr>\n",
       "  </thead>\n",
       "  <tbody>\n",
       "    <tr>\n",
       "      <th>0</th>\n",
       "      <td>Masala Library</td>\n",
       "      <td>Fifc Building</td>\n",
       "      <td>Mumbai</td>\n",
       "      <td>Indian Restaurant</td>\n",
       "    </tr>\n",
       "    <tr>\n",
       "      <th>1</th>\n",
       "      <td>Naaz Hotel</td>\n",
       "      <td>Kantharia Mahal, Ground Floor, Lbs Road</td>\n",
       "      <td>Mumbai</td>\n",
       "      <td>Indian Restaurant</td>\n",
       "    </tr>\n",
       "    <tr>\n",
       "      <th>2</th>\n",
       "      <td>Smoke House Deli (Bkc)</td>\n",
       "      <td>Fifc Building</td>\n",
       "      <td>Mumbai</td>\n",
       "      <td>Deli</td>\n",
       "    </tr>\n",
       "    <tr>\n",
       "      <th>3</th>\n",
       "      <td>Ivy Banquet</td>\n",
       "      <td>Amar Mahal, Ghatkopar East, Mg Road</td>\n",
       "      <td>Mumbai</td>\n",
       "      <td>Restaurant</td>\n",
       "    </tr>\n",
       "    <tr>\n",
       "      <th>4</th>\n",
       "      <td>Tresind</td>\n",
       "      <td>Ground Floor, Inspire Bkc, G Block</td>\n",
       "      <td>Mumbai</td>\n",
       "      <td>Restaurant</td>\n",
       "    </tr>\n",
       "  </tbody>\n",
       "</table>\n",
       "</div>"
      ],
      "text/plain": [
       "                     Name                                  Address    City  \\\n",
       "0          Masala Library                            Fifc Building  Mumbai   \n",
       "1              Naaz Hotel  Kantharia Mahal, Ground Floor, Lbs Road  Mumbai   \n",
       "2  Smoke House Deli (Bkc)                            Fifc Building  Mumbai   \n",
       "3             Ivy Banquet      Amar Mahal, Ghatkopar East, Mg Road  Mumbai   \n",
       "4                 Tresind       Ground Floor, Inspire Bkc, G Block  Mumbai   \n",
       "\n",
       "            Category  \n",
       "0  Indian Restaurant  \n",
       "1  Indian Restaurant  \n",
       "2               Deli  \n",
       "3         Restaurant  \n",
       "4         Restaurant  "
      ]
     },
     "execution_count": 5,
     "metadata": {},
     "output_type": "execute_result"
    }
   ],
   "source": [
    "# Save the cleaned data to a new CSV file\n",
    "cleaned_df.to_csv('cleaned_foursquare_business_data.csv', index=False)\n",
    "\n",
    "# Check the first few rows of the cleaned data\n",
    "cleaned_df.head()"
   ]
  },
  {
   "cell_type": "code",
   "execution_count": null,
   "metadata": {},
   "outputs": [],
   "source": []
  }
 ],
 "metadata": {
  "kernelspec": {
   "display_name": "myenv",
   "language": "python",
   "name": "python3"
  },
  "language_info": {
   "codemirror_mode": {
    "name": "ipython",
    "version": 3
   },
   "file_extension": ".py",
   "mimetype": "text/x-python",
   "name": "python",
   "nbconvert_exporter": "python",
   "pygments_lexer": "ipython3",
   "version": "3.12.1"
  }
 },
 "nbformat": 4,
 "nbformat_minor": 2
}
